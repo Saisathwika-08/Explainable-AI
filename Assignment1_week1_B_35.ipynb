{
  "nbformat": 4,
  "nbformat_minor": 0,
  "metadata": {
    "colab": {
      "provenance": [],
      "authorship_tag": "ABX9TyPN7dDgGUD176fiZSes+oMw",
      "include_colab_link": true
    },
    "kernelspec": {
      "name": "python3",
      "display_name": "Python 3"
    },
    "language_info": {
      "name": "python"
    }
  },
  "cells": [
    {
      "cell_type": "markdown",
      "metadata": {
        "id": "view-in-github",
        "colab_type": "text"
      },
      "source": [
        "<a href=\"https://colab.research.google.com/github/Saisathwika-08/Explainable-AI/blob/main/Assignment1_week1_B_35.ipynb\" target=\"_parent\"><img src=\"https://colab.research.google.com/assets/colab-badge.svg\" alt=\"Open In Colab\"/></a>"
      ]
    },
    {
      "cell_type": "code",
      "execution_count": 1,
      "metadata": {
        "id": "0XLBoROJgjpR",
        "colab": {
          "base_uri": "https://localhost:8080/"
        },
        "outputId": "1f1991d5-7f74-40bd-8917-5f0484d269d0"
      },
      "outputs": [
        {
          "output_type": "stream",
          "name": "stdout",
          "text": [
            "Intercept (b0): 10.00\n",
            "Slope (b1): 5.00\n",
            "Predicted Y values: [15. 25. 20. 15. 25.]\n",
            "\n",
            "Predicted Equation: y = 10.00 + 5.00 * x\n"
          ]
        }
      ],
      "source": [
        "import numpy as np\n",
        "X = np.array([1, 3, 2, 1, 3])\n",
        "Y = np.array([14, 24, 18, 17, 27])\n",
        "X_matrix = np.column_stack((np.ones(len(X)), X))\n",
        "Y_matrix = Y.reshape(-1, 1)\n",
        "X_transpose = X_matrix.T\n",
        "theta = np.linalg.inv(X_transpose @ X_matrix) @ X_transpose @ Y_matrix\n",
        "intercept = theta[0, 0]\n",
        "slope = theta[1, 0]\n",
        "print(f\"Intercept (b0): {intercept:.2f}\")\n",
        "print(f\"Slope (b1): {slope:.2f}\")\n",
        "Y_pred = X_matrix @ theta\n",
        "print(\"Predicted Y values:\", Y_pred.flatten())\n",
        "print(f\"\\nPredicted Equation: y = {intercept:.2f} + {slope:.2f} * x\")\n"
      ]
    },
    {
      "cell_type": "markdown",
      "source": [],
      "metadata": {
        "id": "SfJIZFID4HEB"
      }
    },
    {
      "cell_type": "code",
      "source": [
        "import numpy as np\n",
        "import pandas as pd\n",
        "from sklearn.linear_model import LinearRegression\n",
        "\n",
        "X = np.array([1, 2, 3, 1, 2]).reshape(-1, 1)\n",
        "y = np.array([120, 150, 180, 130, 160])\n",
        "\n",
        "model = LinearRegression()\n",
        "model.fit(X, y)\n",
        "\n",
        "slope = model.coef_[0]\n",
        "intercept = model.intercept_\n",
        "\n",
        "print(f\"Linear Regression Equation: y = {slope:.2f} * x + {intercept:.2f}\")\n",
        "\n",
        "y_pred = model.predict(X)\n",
        "baseline = np.mean(y)\n",
        "print(f\"Baseline (mean of y): {baseline:.2f}\")\n",
        "\n",
        "shap_values = y_pred - baseline\n",
        "difference = y_pred - y\n",
        "pred_status = [\"Underprediction\" if diff < 0 else \"Overprediction\" if diff > 0 else \"Exact\" for diff in difference]\n",
        "\n",
        "results = pd.DataFrame({\n",
        "    \"Influencer Posts (x)\": X.flatten(),\n",
        "    \"Actual Bottles Sold (y)\": y,\n",
        "    \"Predicted y\": y_pred.round(2),\n",
        "    \"Baseline\": [baseline] * len(y),\n",
        "    \"SHAP Value\": shap_values.round(2),\n",
        "    \"Final Prediction (Baseline + SHAP)\": (baseline + shap_values).round(2),\n",
        "    \"Model Error\": difference.round(2),\n",
        "    \"Prediction Status\": pred_status\n",
        "})\n",
        "\n",
        "print(\"\\n=== SHAP Analysis Table ===\\n\")\n",
        "print(results.to_string(index=False))\n",
        "\n",
        "print(\"\\n=== Summary Interpretation ===\")\n",
        "for i, row in results.iterrows():\n",
        "    print(f\"- {row['Influencer Posts (x)']} post(s): predicted = {row['Predicted y']}, actual = {row['Actual Bottles Sold (y)']} → {row['Prediction Status']}, SHAP = {row['SHAP Value']}\")"
      ],
      "metadata": {
        "colab": {
          "base_uri": "https://localhost:8080/"
        },
        "id": "eY9oPwUg4HxX",
        "outputId": "53ba64c9-bb8c-498d-c67b-859d6b5d94e1"
      },
      "execution_count": 4,
      "outputs": [
        {
          "output_type": "stream",
          "name": "stdout",
          "text": [
            "Linear Regression Equation: y = 27.86 * x + 97.86\n",
            "Baseline (mean of y): 148.00\n",
            "\n",
            "=== SHAP Analysis Table ===\n",
            "\n",
            " Influencer Posts (x)  Actual Bottles Sold (y)  Predicted y  Baseline  SHAP Value  Final Prediction (Baseline + SHAP)  Model Error Prediction Status\n",
            "                    1                      120       125.71     148.0      -22.29                              125.71         5.71    Overprediction\n",
            "                    2                      150       153.57     148.0        5.57                              153.57         3.57    Overprediction\n",
            "                    3                      180       181.43     148.0       33.43                              181.43         1.43    Overprediction\n",
            "                    1                      130       125.71     148.0      -22.29                              125.71        -4.29   Underprediction\n",
            "                    2                      160       153.57     148.0        5.57                              153.57        -6.43   Underprediction\n",
            "\n",
            "=== Summary Interpretation ===\n",
            "- 1 post(s): predicted = 125.71, actual = 120 → Overprediction, SHAP = -22.29\n",
            "- 2 post(s): predicted = 153.57, actual = 150 → Overprediction, SHAP = 5.57\n",
            "- 3 post(s): predicted = 181.43, actual = 180 → Overprediction, SHAP = 33.43\n",
            "- 1 post(s): predicted = 125.71, actual = 130 → Underprediction, SHAP = -22.29\n",
            "- 2 post(s): predicted = 153.57, actual = 160 → Underprediction, SHAP = 5.57\n"
          ]
        }
      ]
    }
  ]
}